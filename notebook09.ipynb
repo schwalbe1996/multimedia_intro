{
 "cells": [
  {
   "cell_type": "markdown",
   "id": "e6ecef68-0e48-4dea-8ae9-0c44c532a97d",
   "metadata": {
    "tags": []
   },
   "source": [
    "# マルチメディア処理入門 第9回\n",
    "\n",
    "[![Open In Colab](https://colab.research.google.com/assets/colab-badge.svg)](https://colab.research.google.com/github/schwalbe1996/multimedia_intro/blob/main/notebook09.ipynb)\n",
    "\n",
    "Google Colabで試したい場合は、上のボタンをクリックして、「ドライブにコピー」を実行してください。（ドライブにコピーしないとコードを変更しても保存できません）\n"
   ]
  },
  {
   "cell_type": "code",
   "execution_count": null,
   "id": "725c0782-174a-4be9-8fb8-ad93d91cf221",
   "metadata": {},
   "outputs": [],
   "source": [
    "%pylab inline\n",
    "import numpy as np\n",
    "import matplotlib.pyplot as plt\n",
    "import cv2"
   ]
  },
  {
   "cell_type": "markdown",
   "id": "a4d138ce-ca72-4847-8d22-0a29cc6034e0",
   "metadata": {},
   "source": [
    "[Anacondaを使ってる人]\n",
    "※ 上を実行して \"ModuleNotFoundError\"が表示される場合は、以下を実行する\n",
    "（~少し~かなり時間がかかります）"
   ]
  },
  {
   "cell_type": "code",
   "execution_count": null,
   "id": "ef5ed288-0edf-4c99-90ec-e778a586251b",
   "metadata": {},
   "outputs": [],
   "source": [
    "!conda install -y opencv"
   ]
  },
  {
   "cell_type": "markdown",
   "id": "dced7807-5d69-4f82-adb8-01787255d92c",
   "metadata": {},
   "source": [
    "## 画像ファイルの読み込み\n",
    "- このノートブックと同じフォルダに画像ファイル(tomato_sample.png)を置いてください。\n",
    "- Google Colabで実行している人は↓のブロックを実行してください。"
   ]
  },
  {
   "cell_type": "code",
   "execution_count": null,
   "id": "3ffb2f90-54de-44d3-9e7e-e6d83a5d9566",
   "metadata": {},
   "outputs": [],
   "source": [
    "!wget https://github.com/schwalbe1996/multimedia_intro/raw/main/tomato_sample.png"
   ]
  },
  {
   "cell_type": "code",
   "execution_count": null,
   "id": "be90a4fb-8b44-4100-9e29-96e20ebc6bfc",
   "metadata": {},
   "outputs": [],
   "source": [
    "image = cv2.imread(\"tomato_sample.png\")\n",
    "\n",
    "# 画像の解像度をチェック。（画像の高さ、画像の幅、チャンネル数（カラーの場合は3、モノクロの場合表示されません)）\n",
    "print (image.shape)"
   ]
  },
  {
   "cell_type": "markdown",
   "id": "f32a7856-460d-4828-8c38-c32baa8c2f65",
   "metadata": {},
   "source": [
    "## 画像の表示"
   ]
  },
  {
   "cell_type": "code",
   "execution_count": null,
   "id": "20045c22-74d5-45b9-b2af-082f310eb91d",
   "metadata": {},
   "outputs": [],
   "source": [
    "# opencvではカラー画像の表現がBGR（青・緑・赤）の順番なのに対して、matplotlibではRGB（赤・緑・青）の順番なので、\n",
    "# plt.imshow(image)ではなく、plt.imshow(image[:,:,::-1])とやってBGR⇒RGBに順番を入れ替えておく\n",
    "plt.imshow(image[:,:,::-1])\n",
    "plt.title(\"tomato\")\n",
    "plt.show()"
   ]
  },
  {
   "cell_type": "markdown",
   "id": "59d0c418-5d3b-4681-8971-f4c3b6c74ea9",
   "metadata": {
    "tags": []
   },
   "source": [
    "### (おまけ)\n",
    "- 「::-1」 の挙動説明"
   ]
  },
  {
   "cell_type": "code",
   "execution_count": null,
   "id": "bed01269-9f88-497d-a542-a17cdcff5c82",
   "metadata": {},
   "outputs": [],
   "source": [
    "x = [1, 2, 3, 4, 5]\n",
    "print (x[::-1])"
   ]
  },
  {
   "cell_type": "markdown",
   "id": "2f754bb8-5230-43b4-bbe0-5b8dd04aff00",
   "metadata": {},
   "source": [
    "## 画像の操作いろいろ"
   ]
  },
  {
   "cell_type": "markdown",
   "id": "3b63cd3d-d5ea-4884-af86-33c90e0aae19",
   "metadata": {},
   "source": [
    "### 画像の一部分だけ切り出してみる\n",
    "- 上の画像の y座標で 100〜200、x座標で150〜250の範囲を切り出してみます"
   ]
  },
  {
   "cell_type": "code",
   "execution_count": null,
   "id": "58252d31-0abd-4077-804b-57deb620af05",
   "metadata": {},
   "outputs": [],
   "source": [
    "crop = image[100:200,150:250].copy()\n",
    "\n",
    "plt.imshow(crop[:,:,::-1])\n",
    "plt.show()"
   ]
  },
  {
   "cell_type": "markdown",
   "id": "eaa02a02-bc69-441b-9656-89fa3e751844",
   "metadata": {},
   "source": [
    "### 画像を上下(左右)反転\n",
    "- numpy.ndarrayの ::-1の機能を使うのが早いです"
   ]
  },
  {
   "cell_type": "code",
   "execution_count": null,
   "id": "3a42326d-0649-486e-af07-7420ab876502",
   "metadata": {},
   "outputs": [],
   "source": [
    "# 画像を上下反転\n",
    "vflip = image[::-1,:,:].copy()\n",
    "\n",
    "# 画像を左右反転\n",
    "hflip = image[:,::-1,:].copy()\n",
    "\n",
    "\n",
    "plt.title(\"vertical flip\")\n",
    "plt.imshow(vflip[:,:,::-1])\n",
    "plt.show()\n",
    "\n",
    "plt.title(\"horizontal flip\")\n",
    "plt.imshow(hflip[:,:,::-1])\n",
    "plt.show()"
   ]
  },
  {
   "cell_type": "markdown",
   "id": "6cfeaa44-fdae-4ac4-9544-3dae12f76354",
   "metadata": {},
   "source": [
    "### 画像の一部分だけを塗りつぶす\n",
    "- y座標で 100〜200、x座標で150〜250の範囲を赤色(B=0, G=0, R=255)で塗りつぶしてみましょう"
   ]
  },
  {
   "cell_type": "code",
   "execution_count": null,
   "id": "89fa40a6-10c7-4713-9d22-269db6cd5640",
   "metadata": {},
   "outputs": [],
   "source": [
    "mask = image.copy()\n",
    "mask[100:200,150:250] = (0,0,255)\n",
    "\n",
    "plt.imshow(mask[:,:,::-1])"
   ]
  },
  {
   "cell_type": "markdown",
   "id": "cb14509b-1788-4e60-93c4-20f949df36a9",
   "metadata": {},
   "source": [
    "### カラー画像⇒モノクロ画像\n",
    "- ここでは単純に、\n",
    "    - モノクロ画像の輝度値 = 青の輝度値/3 + 緑の輝度値/3 + 赤の輝度値/3 で計算してみます\n",
    "    - ※実際はもう少しややこしい式です\n"
   ]
  },
  {
   "cell_type": "code",
   "execution_count": null,
   "id": "32e671a9-b449-4b20-8fb6-4f0d79d1645e",
   "metadata": {},
   "outputs": [],
   "source": [
    "gray = crop[:,:,0]//3 + crop[:,:,1]//3 + crop[:,:,2]//3\n",
    "\n",
    "plt.imshow(gray,cmap=cm.gray) # cmap=cm.grayオプションをつけないと擬似カラー表示になってしまう\n",
    "plt.colorbar() # 画像の横にカラーバーをつけたい場合。気分でどうぞ\n",
    "plt.show()\n",
    "\n",
    "## gray = cv2.cvtColor(image, cv2.COLOR_BGR2GRAY) でもいいです"
   ]
  },
  {
   "cell_type": "markdown",
   "id": "3cecec75-77bf-4b21-a530-08d8a98401ac",
   "metadata": {},
   "source": [
    "## 画像の保存"
   ]
  },
  {
   "cell_type": "code",
   "execution_count": null,
   "id": "35f225ca-c095-4b6f-aea4-c2910d16b040",
   "metadata": {},
   "outputs": [],
   "source": [
    "cv2.imwrite(\"my_tomato.png\", crop) # ファイル名、画像データの順で指定します"
   ]
  },
  {
   "cell_type": "markdown",
   "id": "5f26a9c9-38f7-4f9c-a3f9-fc3c21db0c22",
   "metadata": {},
   "source": [
    "## [発展]　ノートパソコンのカメラを使って撮影したい場合\n",
    "\n",
    "- ※ カメラがついてないパソコン、他のソフトでカメラを使用中、colabで動かしてる、などだとうまく動きません。\n"
   ]
  },
  {
   "cell_type": "code",
   "execution_count": null,
   "id": "47691a7d-ffc9-4cf4-954a-73c3d37d61a4",
   "metadata": {},
   "outputs": [],
   "source": [
    "import time\n",
    "cap = cv2.VideoCapture(0) # カメラを使う準備\n",
    "time.sleep(1) # 1秒だけ待って\n",
    "cap.grab() # 撮影\n",
    "ret, image = cap.retrieve(0) # 撮影した画像を読み出し\n",
    "cap.release() # カメラの使用を終了\n",
    "\n",
    "plt.imshow(image[:,:,::-1])\n",
    "plt.show()\n"
   ]
  },
  {
   "cell_type": "code",
   "execution_count": null,
   "id": "569bb537-7b3a-4ff8-81e1-4dfb489fc629",
   "metadata": {},
   "outputs": [],
   "source": []
  }
 ],
 "metadata": {
  "authors": [
   {
    "name": "担当:飯山"
   }
  ],
  "date": "2022/6/7",
  "kernelspec": {
   "display_name": "Python 3 (ipykernel)",
   "language": "python",
   "name": "python3"
  },
  "language_info": {
   "codemirror_mode": {
    "name": "ipython",
    "version": 3
   },
   "file_extension": ".py",
   "mimetype": "text/x-python",
   "name": "python",
   "nbconvert_exporter": "python",
   "pygments_lexer": "ipython3",
   "version": "3.9.12"
  },
  "title": "マルチメディア処理入門第9回"
 },
 "nbformat": 4,
 "nbformat_minor": 5
}
