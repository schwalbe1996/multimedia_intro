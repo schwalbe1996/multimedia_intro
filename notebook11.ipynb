{
 "cells": [
  {
   "cell_type": "markdown",
   "id": "e6ecef68-0e48-4dea-8ae9-0c44c532a97d",
   "metadata": {
    "tags": []
   },
   "source": [
    "# マルチメディア処理入門 第11回\n",
    "[![Open In Colab](https://colab.research.google.com/assets/colab-badge.svg)](https://colab.research.google.com/github/schwalbe1996/multimedia_intro/blob/main/notebook11.ipynb)\n",
    "\n",
    "Google Colabで試したい場合は、上のボタンをクリックして、「ドライブにコピー」を実行してください。（ドライブにコピーしないとコードを変更しても保存できません）"
   ]
  },
  {
   "cell_type": "code",
   "execution_count": null,
   "id": "725c0782-174a-4be9-8fb8-ad93d91cf221",
   "metadata": {},
   "outputs": [],
   "source": [
    "%matplotlib inline\n",
    "import numpy as np\n",
    "import matplotlib.pyplot as plt\n",
    "from pylab import cm\n",
    "import cv2"
   ]
  },
  {
   "cell_type": "markdown",
   "id": "dced7807-5d69-4f82-adb8-01787255d92c",
   "metadata": {},
   "source": [
    "## 画像ファイルの読み込み\n",
    "- このノートブックと同じフォルダに画像ファイル(tomato_sample.png)を置いてください。\n",
    "- 今日はモノクロ画像として扱います"
   ]
  },
  {
   "cell_type": "code",
   "execution_count": null,
   "id": "55a167c7-1b14-4292-a103-c5c1bb30a162",
   "metadata": {},
   "outputs": [],
   "source": [
    "# colabユーザだけここを実行\n",
    "!wget https://github.com/schwalbe1996/multimedia_intro/raw/main/tomato_sample.png"
   ]
  },
  {
   "cell_type": "code",
   "execution_count": null,
   "id": "be90a4fb-8b44-4100-9e29-96e20ebc6bfc",
   "metadata": {},
   "outputs": [],
   "source": [
    "image = cv2.imread(\"tomato_sample.png\",0)"
   ]
  },
  {
   "cell_type": "markdown",
   "id": "38cf9ce7-9fc9-48db-8f39-671b990bc5da",
   "metadata": {},
   "source": [
    "## 画像表示用の関数"
   ]
  },
  {
   "cell_type": "code",
   "execution_count": null,
   "id": "d51a7fd9-04af-43e8-bd25-deefefcb2581",
   "metadata": {},
   "outputs": [],
   "source": [
    "# opencvではカラー画像の表現がBGR（青・緑・赤）の順番なのに対して、matplotlibではRGB（赤・緑・青）の順番なので、\n",
    "# plt.imshow(image)ではなく、plt.imshow(image[:,:,::-1])とやってBGR⇒RGBに順番を入れ替えておく\n",
    "def show_image(data,title=None):\n",
    "    plt.figure(figsize=(10,10))\n",
    "    if data.ndim == 3:\n",
    "        plt.imshow(data[:,:,::-1])\n",
    "    else:\n",
    "        plt.imshow(data,cmap=cm.gray)\n",
    "        plt.colorbar()\n",
    "    plt.title(title)\n",
    "    plt.show()"
   ]
  },
  {
   "cell_type": "code",
   "execution_count": null,
   "id": "84112c8a-b252-4c82-b640-7a80b2df6e05",
   "metadata": {},
   "outputs": [],
   "source": [
    "# 講義資料のように3次元プロットしたい場合はこちらも実行してください\n",
    "from mpl_toolkits.mplot3d import Axes3D\n",
    "\n",
    "def show_image3d(data,title=None):\n",
    "    x = np.arange(data.shape[1])\n",
    "    y = np.arange(data.shape[0])\n",
    "    xx,yy = np.meshgrid(x,y)\n",
    "\n",
    "    fig = plt.figure(figsize=(10,10))\n",
    "    ax = fig.add_subplot(111, projection='3d')\n",
    "    ax.view_init(elev=30, azim=30) # 3次元の視点角を設定します。\n",
    "\n",
    "    #ax.set_zlim(-2,8) # ｚ軸の範囲を設定したい場合はコメントを外してください   \n",
    "\n",
    "    sp = ax.plot_surface(xx,yy,data,cmap=cm.jet,vmin=None,vmax=None)\n",
    "    fig.colorbar(sp,shrink=0.5)\n",
    "\n",
    "    ax.set_xlabel(\"x\")\n",
    "    ax.set_ylabel(\"y\")\n",
    "    #ax.set_zlabel(\"log(power)\")\n",
    "\n",
    "    fig.show()    "
   ]
  },
  {
   "cell_type": "markdown",
   "id": "2f754bb8-5230-43b4-bbe0-5b8dd04aff00",
   "metadata": {},
   "source": [
    "## 下準備　: 画像にノイズを加える\n",
    "- 平均0，分散適当のガウス分布に従うノイズを用意します。"
   ]
  },
  {
   "cell_type": "code",
   "execution_count": null,
   "id": "58252d31-0abd-4077-804b-57deb620af05",
   "metadata": {},
   "outputs": [],
   "source": [
    "show_image(image, \"original\")\n",
    "\n",
    "noise = np.random.normal(0, 15, image.shape)\n",
    "show_image(noise, \"noise\")\n",
    "\n",
    "src = noise + image\n",
    "# 0〜255の範囲に収まってない画素は 0 or 255にしておく\n",
    "src = np.clip(src, 0, 255)\n",
    "src = src.astype(np.uint8)\n",
    "show_image(src, \"source image\")\n"
   ]
  },
  {
   "cell_type": "markdown",
   "id": "eaa02a02-bc69-441b-9656-89fa3e751844",
   "metadata": {},
   "source": [
    "## 離散フーリエ変換してみましょう"
   ]
  },
  {
   "cell_type": "markdown",
   "id": "7095cab4-fe30-4071-8316-2a531bcd099a",
   "metadata": {},
   "source": [
    "### まずは元の画像に対して離散フーリエ変換"
   ]
  },
  {
   "cell_type": "code",
   "execution_count": null,
   "id": "60fc5c63-da7a-46a4-a183-d374b290e572",
   "metadata": {},
   "outputs": [],
   "source": [
    "freq = np.fft.fft2(image)\n",
    "\n",
    "# 離散フーリエ変換した結果は複素数になるので、可視化のために対数パワースペクトルに変換\n",
    "power_spectrum = np.log( np.abs(freq) )\n",
    "plt.imshow(power_spectrum)"
   ]
  },
  {
   "cell_type": "code",
   "execution_count": null,
   "id": "cccd7b2f-330d-401f-a3ba-24d2448ce91a",
   "metadata": {},
   "outputs": [],
   "source": [
    "# 上の結果だと低周波成分が図中の端にきて見にくいので、低周波成分が図の中央に寄るように加工します\n",
    "power_spectrum = np.fft.fftshift(power_spectrum)\n",
    "plt.imshow(power_spectrum)\n"
   ]
  },
  {
   "cell_type": "code",
   "execution_count": null,
   "id": "ac15d87f-fc2a-4af0-8ce0-c65b6233fee1",
   "metadata": {},
   "outputs": [],
   "source": [
    "# 3D表示したい人だけ\n",
    "show_image3d(power_spectrum)"
   ]
  },
  {
   "cell_type": "markdown",
   "id": "b0e30329-d994-4e4b-b103-e9f4de68751f",
   "metadata": {},
   "source": [
    "### 離散逆フーリエ変換"
   ]
  },
  {
   "cell_type": "code",
   "execution_count": null,
   "id": "13115e9b-6f71-4921-831c-c7cd30043f1c",
   "metadata": {},
   "outputs": [],
   "source": [
    "rev_image = np.fft.ifft2(freq)\n",
    "\n",
    "# 逆フーリエ変換した結果も複素数になるので、絶対値を取ってます。\n",
    "rev_image = np.abs(rev_image)\n",
    "show_image(rev_image)"
   ]
  },
  {
   "cell_type": "markdown",
   "id": "4ab45b0d-5253-4847-9d2b-1c2827c67395",
   "metadata": {},
   "source": [
    "### 画像⇒平均値フィルタ\n",
    "- 前回行った、3x3の平均値フィルタを実行した結果\n",
    "- 今回の講義で説明した方法\n",
    "    1. (ノイズ入り）画像を離散フーリエ変換\n",
    "    2. 3x3平均値フィルタも離散フーリエ変換\n",
    "    3. (1)×(2)を計算\n",
    "    4. (3)の結果を逆離散フーリエ変換"
   ]
  },
  {
   "cell_type": "code",
   "execution_count": null,
   "id": "8e5458ff-f18d-4833-8db0-cf27f11a8476",
   "metadata": {},
   "outputs": [],
   "source": [
    "# まずは3x3の平均値フィルタを畳み込む処理\n",
    "output = cv2.blur(src, ksize=(3,3))\n",
    "show_image(output, \"mean filter (3x3)\")"
   ]
  },
  {
   "cell_type": "code",
   "execution_count": null,
   "id": "dcc131d4-f642-4cc6-aa5b-cce887251cfb",
   "metadata": {},
   "outputs": [],
   "source": [
    "# ノイズ入り画像を離散フーリエ変換して、パワースペクトルを表示してみましょう\n",
    "freq_noisy = np.fft.fft2(src)\n",
    "power_spectrum = np.log( np.abs(freq_noisy) )\n",
    "power_spectrum = np.fft.fftshift(power_spectrum)\n",
    "plt.imshow(power_spectrum)\n",
    "plt.colorbar()"
   ]
  },
  {
   "cell_type": "code",
   "execution_count": null,
   "id": "7bbbb36b-4b16-4d52-b849-6a2d2d849667",
   "metadata": {},
   "outputs": [],
   "source": [
    "# 3x3の平均値フィルタを離散フーリエ変換して、パワースペクトルを表示してみましょう\n",
    "mfilter = np.zeros(src.shape)\n",
    "mfilter[-1,-1] = 1/9\n",
    "mfilter[-1,0] = 1/9\n",
    "mfilter[-1,1] = 1/9\n",
    "mfilter[0,-1] = 1/9\n",
    "mfilter[0,0] = 1/9\n",
    "mfilter[0,1] = 1/9\n",
    "mfilter[1,-1] = 1/9\n",
    "mfilter[1,0] = 1/9\n",
    "mfilter[1,1] = 1/9\n",
    "\n",
    "freq_mean = np.fft.fft2(mfilter)\n",
    "power_spectrum = np.abs(freq_mean)\n",
    "power_spectrum = np.fft.fftshift(power_spectrum)\n",
    "plt.imshow(power_spectrum)\n",
    "plt.colorbar()"
   ]
  },
  {
   "cell_type": "code",
   "execution_count": null,
   "id": "abc3d33c-459c-47b7-abe1-59ac478ac21a",
   "metadata": {},
   "outputs": [],
   "source": [
    "# 周波数領域で画像とフィルタを掛け算\n",
    "freq_dst = freq_noisy * freq_mean\n",
    "power_spectrum = np.log( np.abs(freq_dst) + 1e-10 ) # log(0)がエラーになるのですごく小さい数を足してます。\n",
    "power_spectrum[ power_spectrum == np.log(1e-10) ] = np.nan\n",
    "power_spectrum = np.fft.fftshift(power_spectrum)\n",
    "plt.imshow(power_spectrum)\n",
    "plt.colorbar()"
   ]
  },
  {
   "cell_type": "code",
   "execution_count": null,
   "id": "c5a27379-9cb1-4f1c-8229-f731ae2ed422",
   "metadata": {},
   "outputs": [],
   "source": [
    "# 周波数領域で画像とフィルタを掛け算した結果を逆離散フーリエ変換\n",
    "dst = np.fft.ifft2(freq_dst)\n",
    "\n",
    "# 逆フーリエ変換した結果も複素数になるので、絶対値を取ってます。\n",
    "dst = np.abs(dst)\n",
    "show_image(dst)"
   ]
  },
  {
   "cell_type": "code",
   "execution_count": null,
   "id": "2b9f173f-7547-438c-87b7-ca3194cffcd6",
   "metadata": {},
   "outputs": [],
   "source": []
  }
 ],
 "metadata": {
  "authors": [
   {
    "name": "担当:飯山"
   }
  ],
  "date": "2022/6/25",
  "kernelspec": {
   "display_name": "Python 3 (ipykernel)",
   "language": "python",
   "name": "python3"
  },
  "language_info": {
   "codemirror_mode": {
    "name": "ipython",
    "version": 3
   },
   "file_extension": ".py",
   "mimetype": "text/x-python",
   "name": "python",
   "nbconvert_exporter": "python",
   "pygments_lexer": "ipython3",
   "version": "3.9.12"
  },
  "title": "マルチメディア処理入門第11回"
 },
 "nbformat": 4,
 "nbformat_minor": 5
}
